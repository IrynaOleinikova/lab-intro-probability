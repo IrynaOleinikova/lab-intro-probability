{
 "cells": [
  {
   "cell_type": "markdown",
   "metadata": {},
   "source": [
    "# Lab | Intro to Probability"
   ]
  },
  {
   "cell_type": "markdown",
   "metadata": {},
   "source": [
    "**Objective**\n",
    "\n",
    "Welcome to this Intro to Probability lab, where we explore decision-making scenarios through the lens of probability and strategic analysis. In the business world, making informed decisions is crucial, especially when faced with uncertainties. This lab focuses on scenarios where probabilistic outcomes play a significant role in shaping strategies and outcomes. Students will engage in exercises that require assessing and choosing optimal paths based on data-driven insights. The goal is to enhance your skills by applying probability concepts to solve real-world problems."
   ]
  },
  {
   "cell_type": "markdown",
   "metadata": {},
   "source": [
    "**Challenge 1**"
   ]
  },
  {
   "cell_type": "markdown",
   "metadata": {},
   "source": [
    "#### Ironhack Airlines \n",
    "\n",
    "Often Airlines sell more tickets than they have seats available, this is called overbooking. Consider the following:\n",
    "- A plane has 450 seats. \n",
    "- Based on historical data we conclude that each individual passenger has a 3% chance of missing it's flight. \n",
    "\n",
    "If the Ironhack Airlines routinely sells 460 tickets, what is the chance that they have a seats for all passenger?"
   ]
  },
  {
   "cell_type": "code",
   "execution_count": 1,
   "metadata": {},
   "outputs": [
    {
     "name": "stdout",
     "output_type": "stream",
     "text": [
      "Probability that there are enough seats: 0.8505\n"
     ]
    }
   ],
   "source": [
    "# We can model this using a Binomial distribution, but because n is large and p is small, we can approximate it with a Normal distribution.\n",
    "import scipy.stats as stats\n",
    "\n",
    "# Parameters\n",
    "n = 460  # tickets sold\n",
    "p = 0.97  # probability of showing up\n",
    "\n",
    "# Mean and standard deviation of binomial\n",
    "mu = n * p\n",
    "sigma = (n * p * (1-p)) ** 0.5\n",
    "\n",
    "# We need P(X <= 450)\n",
    "probability = stats.norm.cdf(450, loc=mu, scale=sigma)\n",
    "print(f\"Probability that there are enough seats: {probability:.4f}\")\n"
   ]
  },
  {
   "cell_type": "markdown",
   "metadata": {},
   "source": [
    "**Challenge 2**"
   ]
  },
  {
   "cell_type": "markdown",
   "metadata": {},
   "source": [
    "#### Ironhack Call Center "
   ]
  },
  {
   "cell_type": "markdown",
   "metadata": {},
   "source": [
    "Suppose a customer service representative at a call center is handling customer complaints. Consider the following:\n",
    "- The probability of successfully resolving a customer complaint on the first attempt is 0.3. \n",
    "\n",
    "\n",
    "What is the probability that the representative needs to make at least three attempts before successfully resolving a customer complaint?"
   ]
  },
  {
   "cell_type": "code",
   "execution_count": 3,
   "metadata": {},
   "outputs": [
    {
     "name": "stdout",
     "output_type": "stream",
     "text": [
      "Probability that at least 3 attempts are needed: 0.4900\n"
     ]
    }
   ],
   "source": [
    "# This is a Geometric distribution problem\n",
    "# Probability of failure = 1 - success\n",
    "q = 1 - 0.3\n",
    "\n",
    "# Probability of two failures in a row\n",
    "probability = q * q\n",
    "print(f\"Probability that at least 3 attempts are needed: {probability:.4f}\")\n"
   ]
  },
  {
   "cell_type": "markdown",
   "metadata": {},
   "source": [
    "**Challenge 3**"
   ]
  },
  {
   "cell_type": "markdown",
   "metadata": {},
   "source": [
    "#### Ironhack Website"
   ]
  },
  {
   "cell_type": "markdown",
   "metadata": {},
   "source": [
    "Consider a scenario related to Ironhack website traffic. Where:\n",
    "- our website takes on average 500 visits per hour.\n",
    "- the website's server is designed to handle up to 550 vists per hour.\n",
    "\n",
    "\n",
    "What is the probability of the website server being overwhelmed?"
   ]
  },
  {
   "cell_type": "code",
   "execution_count": 4,
   "metadata": {},
   "outputs": [
    {
     "name": "stdout",
     "output_type": "stream",
     "text": [
      "Probability of being overwhelmed in 1 hour: 0.0129\n"
     ]
    }
   ],
   "source": [
    "#Assuming Poisson distribution for arrivals:\n",
    "# Probability server is overwhelmed in 1 hour\n",
    "# Poisson distribution\n",
    "lambda_per_hour = 500\n",
    "\n",
    "# Probability that more than 550 visits occur\n",
    "probability = 1 - stats.poisson.cdf(550, lambda_per_hour)\n",
    "print(f\"Probability of being overwhelmed in 1 hour: {probability:.4f}\")\n"
   ]
  },
  {
   "cell_type": "markdown",
   "metadata": {},
   "source": [
    "What is the probability of being overwhelmed at some point during a day? (consider 24hours)"
   ]
  },
  {
   "cell_type": "code",
   "execution_count": 7,
   "metadata": {},
   "outputs": [
    {
     "name": "stdout",
     "output_type": "stream",
     "text": [
      "Probability of being overwhelmed at least once in 24 hours: 0.2677\n"
     ]
    }
   ],
   "source": [
    "# Probability server overwhelmed at least once during 24 hours\n",
    "# Assuming independence per hour:\n",
    "# Probability NOT overwhelmed in 1 hour\n",
    "not_overwhelmed_per_hour = 1 - probability\n",
    "\n",
    "# Probability NOT overwhelmed in 24 hours\n",
    "not_overwhelmed_24h = not_overwhelmed_per_hour ** 24\n",
    "\n",
    "# Probability overwhelmed at least once\n",
    "overwhelmed_24h = 1 - not_overwhelmed_24h\n",
    "print(f\"Probability of being overwhelmed at least once in 24 hours: {overwhelmed_24h:.4f}\")\n"
   ]
  },
  {
   "cell_type": "markdown",
   "metadata": {},
   "source": [
    "**Challenge 4**"
   ]
  },
  {
   "cell_type": "markdown",
   "metadata": {},
   "source": [
    "#### Ironhack Helpdesk"
   ]
  },
  {
   "cell_type": "markdown",
   "metadata": {},
   "source": [
    "Consider a scenario related to the time between arrivals of customers at a service desk.\n",
    "\n",
    "On average, a customers arrives every 10minutes.\n",
    "\n",
    "What is the probability that the next customer will arrive within the next 5 minutes?"
   ]
  },
  {
   "cell_type": "code",
   "execution_count": 8,
   "metadata": {},
   "outputs": [
    {
     "name": "stdout",
     "output_type": "stream",
     "text": [
      "Probability customer arrives within 5 minutes: 0.3935\n"
     ]
    }
   ],
   "source": [
    "# Probability that next customer arrives within 5 minutes\n",
    "# Exponential distribution parameter (rate λ)\n",
    "lambda_per_minute = 1 / 10\n",
    "\n",
    "# P(T <= 5)\n",
    "probability = stats.expon.cdf(5, scale=1/lambda_per_minute)\n",
    "print(f\"Probability customer arrives within 5 minutes: {probability:.4f}\")\n"
   ]
  },
  {
   "cell_type": "markdown",
   "metadata": {},
   "source": [
    "If there is no customer for 15minutes, employees can that a 5minutes break.\n",
    "\n",
    "What is the probability an employee taking a break?"
   ]
  },
  {
   "cell_type": "code",
   "execution_count": 9,
   "metadata": {},
   "outputs": [
    {
     "name": "stdout",
     "output_type": "stream",
     "text": [
      "Probability an employee can take a break: 0.2231\n"
     ]
    }
   ],
   "source": [
    "# Probability employee can take a break (no customer for 15 min)\n",
    "\n",
    "# P(T > 15) = 1 - P(T <= 15)\n",
    "probability_no_customer = 1 - stats.expon.cdf(15, scale=1/lambda_per_minute)\n",
    "print(f\"Probability an employee can take a break: {probability_no_customer:.4f}\")\n"
   ]
  },
  {
   "cell_type": "markdown",
   "metadata": {},
   "source": [
    "**Challenge 5**"
   ]
  },
  {
   "cell_type": "markdown",
   "metadata": {},
   "source": [
    "The weights of a certain species of birds follow a normal distribution with a mean weight of 150 grams and a standard deviation of 10 grams. \n",
    "\n",
    "- If we randomly select a bird, what is the probability that its weight is between 140 and 160 grams?"
   ]
  },
  {
   "cell_type": "code",
   "execution_count": 11,
   "metadata": {},
   "outputs": [
    {
     "name": "stdout",
     "output_type": "stream",
     "text": [
      "Probability bird's weight is between 140g and 160g: 0.6827\n"
     ]
    }
   ],
   "source": [
    "#Mean = 150g, Standard Deviation = 10g, Find P(140g < weight < 160g)\n",
    "# Normal distribution\n",
    "mean = 150\n",
    "std = 10\n",
    "\n",
    "# CDF at 160 and at 140\n",
    "probability = stats.norm.cdf(160, loc=mean, scale=std) - stats.norm.cdf(140, loc=mean, scale=std)\n",
    "print(f\"Probability bird's weight is between 140g and 160g: {probability:.4f}\")\n"
   ]
  },
  {
   "cell_type": "markdown",
   "metadata": {},
   "source": [
    "**Challenge 6**"
   ]
  },
  {
   "cell_type": "markdown",
   "metadata": {},
   "source": [
    "If the lifetime (in hours) of a certain electronic component follows an exponential distribution with a mean lifetime of 50 hours, what is the probability that the component fails within the first 30 hours?"
   ]
  },
  {
   "cell_type": "code",
   "execution_count": 12,
   "metadata": {},
   "outputs": [
    {
     "name": "stdout",
     "output_type": "stream",
     "text": [
      "Probability component fails within 30 hours: 0.4512\n"
     ]
    }
   ],
   "source": [
    "# Exponential distribution\n",
    "mean_lifetime = 50\n",
    "\n",
    "# λ = 1/mean\n",
    "lambda_per_hour = 1 / mean_lifetime\n",
    "\n",
    "# P(T <= 30)\n",
    "probability = stats.expon.cdf(30, scale=1/lambda_per_hour)\n",
    "print(f\"Probability component fails within 30 hours: {probability:.4f}\")\n"
   ]
  }
 ],
 "metadata": {
  "kernelspec": {
   "display_name": "base",
   "language": "python",
   "name": "python3"
  },
  "language_info": {
   "codemirror_mode": {
    "name": "ipython",
    "version": 3
   },
   "file_extension": ".py",
   "mimetype": "text/x-python",
   "name": "python",
   "nbconvert_exporter": "python",
   "pygments_lexer": "ipython3",
   "version": "3.12.7"
  }
 },
 "nbformat": 4,
 "nbformat_minor": 2
}
